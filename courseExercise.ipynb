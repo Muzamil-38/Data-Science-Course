{
  "nbformat": 4,
  "nbformat_minor": 0,
  "metadata": {
    "colab": {
      "provenance": []
    },
    "kernelspec": {
      "name": "python3",
      "display_name": "Python 3"
    },
    "language_info": {
      "name": "python"
    }
  },
  "cells": [
    {
      "cell_type": "markdown",
      "source": [
        "#My Jupyter Notebook on IBM Watson Studio"
      ],
      "metadata": {
        "id": "pH4ALTC92h_P"
      }
    },
    {
      "cell_type": "markdown",
      "source": [
        "**Muhammad Muzamil**"
      ],
      "metadata": {
        "id": "aGA4f_0H3Iv7"
      }
    },
    {
      "cell_type": "markdown",
      "source": [
        "My Current Occupation is Junior Data Scientist and Desired Occupation is Principle Data Scientist"
      ],
      "metadata": {
        "id": "0bM4pguG3OKD"
      }
    },
    {
      "cell_type": "markdown",
      "source": [
        "*I am interested in data science because I know that Machines are getting smarter and it's completely revolutionalize the future with it's invention and I want to be a part of this amazing journey.*"
      ],
      "metadata": {
        "id": "jA9Rnqje3yj7"
      }
    },
    {
      "cell_type": "markdown",
      "source": [
        "### I am going to add two Numbers 1+1 and print it in this notebook"
      ],
      "metadata": {
        "id": "cmVWx1aO4hlk"
      }
    },
    {
      "cell_type": "code",
      "source": [
        "print(\"Add: \",1+1)"
      ],
      "metadata": {
        "colab": {
          "base_uri": "https://localhost:8080/"
        },
        "id": "f193IMGG4zNa",
        "outputId": "0e27b13e-99bf-4ac9-bec1-d1bcdf2e2454"
      },
      "execution_count": 3,
      "outputs": [
        {
          "output_type": "stream",
          "name": "stdout",
          "text": [
            "Add:  2\n"
          ]
        }
      ]
    },
    {
      "cell_type": "markdown",
      "source": [
        "<marquee style='width: 30%; color: blue;'><b>I am HTML</b></marquee>\n",
        "\n",
        "\n",
        "*   Rest Must\n",
        "*   Go and Conquer\n",
        "\n",
        "\n",
        "\n",
        "1.   Once Again\n",
        "2.   Be Brave\n",
        "\n",
        "\n",
        "\n"
      ],
      "metadata": {
        "id": "uAY7ecJ86rqP"
      }
    },
    {
      "cell_type": "code",
      "source": [],
      "metadata": {
        "id": "vVnXp0ji6sVT"
      },
      "execution_count": null,
      "outputs": []
    }
  ]
}